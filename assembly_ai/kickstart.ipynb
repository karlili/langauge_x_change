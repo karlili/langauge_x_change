{
 "cells": [
  {
   "cell_type": "markdown",
   "metadata": {},
   "source": [
    "this notebook is for testing around assembly-ai functionalities\n",
    "\n",
    "before getting started, install the sdk from assembly-ai by running the following command\n",
    "\n",
    "```\n",
    "pip install assemblyai\n",
    "```\n",
    "\n",
    "\n",
    "\n",
    "for supported language - visit this page https://www.assemblyai.com/docs/concepts/supported-languages\n",
    "the status as of 15 Dec mentioned it supports chinese (zh), so it should be just the traditional chinese (but not cantonese)"
   ]
  },
  {
   "cell_type": "code",
   "execution_count": 13,
   "metadata": {},
   "outputs": [
    {
     "name": "stdout",
     "output_type": "stream",
     "text": [
      "None\n",
      "None\n",
      "None\n"
     ]
    }
   ],
   "source": [
    "import assemblyai as aai\n",
    "import json\n",
    "\n",
    "\n",
    "aai.settings.api_key = \"<API_KEY\"\n",
    "transcriber = aai.Transcriber()\n",
    "\n",
    "# transcript = transcriber.transcribe(\"https://storage.googleapis.com/aai-web-samples/news.mp4\")\n",
    "\n",
    "\n",
    "transcript_config = aai.TranscriptionConfig(  language_code=\"zh\", \n",
    "                                    # speaker_labels=True, speakers_expected=2\n",
    "                                    )\n",
    "\n",
    "# put the source audio file you want to transcribe in the source folder, create one if it doesn't exist\n",
    "transcript = transcriber.transcribe(\"source/trimmed_sample.mp3\", \n",
    "    config=transcript_config)\n",
    "\n",
    "print(transcript.text)\n",
    "print(transcript.words)\n",
    "print(transcript.utterances)"
   ]
  },
  {
   "cell_type": "markdown",
   "metadata": {},
   "source": [
    "Sample output\n",
    "\n",
    "其實都有它的價值可能會是和身份認同有關係又或者可能它會帶動到一個地方的文化旅遊它隱藏著和它對於這個社會創造的價值其實都是很重要的元素來的士丹頓街一帶的唐樓活化工程已經完成而市建局亦都說將會引入共同租住單位的共居模式希望將來這裡可以變成一個充滿文化特色和活力的社區\n",
    "[Word(text='其', start=308, end=448, confidence=0.757), Word(text='實', start=448, end=498, confidence=0.5), Word(text='都', start=498, end=548, confidence=0.767), Word(text='有', start=548, end=888, confidence=0.782), Word(text='它', start=888, end=1068, confidence=0.876), Word(text='的', start=1068, end=1208, confidence=0.756), Word(text='價', start=1208, end=1408, confidence=0.5), Word(text='值', start=1408, end=1609, confidence=0.873), Word(text='可', start=1609, end=1729, confidence=0.75), Word(text='能', start=1729, end=1889, confidence=0.686), Word(text='會', start=1889, end=1969, confidence=0.5), Word(text='是', start=1969, end=2049, confidence=0.856), Word(text='和', start=2049, end=2069, confidence=0.005), Word(text='身', start=2069, end=2469, confidence=0.912), Word(text='份', start=2469, end=3069, confidence=0.954), Word(text='認', start=3069, end=3249, confidence=0.5), Word(text='同', start=3249, end=3429, confidence=0.925), Word(text='有', start=3429, end=3609, confidence=0.631), Word(text='關', start=3609, end=3609, confidence=0.5), Word(text='係', start=3609, end=3669, confidence=0.5), Word(text='又', start=3669, end=3729, confidence=0.719), Word(text='或', start=3729, end=3809, confidence=0.748), Word(text='者', start=3809, end=3869, confidence=0.506), Word(text='可', start=3869, end=4009, confidence=0.741), Word(text='能', start=4009, end=4349, confidence=0.763), Word(text='它', start=4349, end=4469, confidence=0.736), Word(text='會', start=4469, end=4469, confidence=0.5), Word(text='帶', start=4469, end=4469, confidence=0.5), Word(text='動', start=4469, end=4679, confidence=0.5), Word(text='到', start=4679, end=4890, confidence=0.858), Word(text='一', start=4890, end=4910, confidence=0.001), Word(text='個', start=4910, end=4950, confidence=0.5), Word(text='地', start=4950, end=4990, confidence=0.719), Word(text='方', start=4990, end=5090, confidence=0.791), Word(text='的', start=5090, end=5130, confidence=0.474), Word(text='文', start=5130, end=5270, confidence=0.768), Word(text='化', start=5270, end=5330, confidence=0.666), Word(text='旅', start=5330, end=5350, confidence=0.0), Word(text='遊', start=5350, end=5360, confidence=0.5), Word(text='它', start=5360, end=5370, confidence=0.0), Word(text='隱', start=5370, end=5390, confidence=0.5), Word(text='藏', start=5390, end=5410, confidence=0.5), Word(text='著', start=5410, end=5510, confidence=0.376), Word(text='和', start=5510, end=5650, confidence=0.847), Word(text='它', start=5650, end=5670, confidence=0.0), Word(text='對', start=5670, end=5760, confidence=0.5), Word(text='於', start=5760, end=5850, confidence=0.776), Word(text='這', start=5850, end=5850, confidence=0.5), Word(text='個', start=5850, end=5900, confidence=0.5), Word(text='社', start=5900, end=5950, confidence=0.798), Word(text='會', start=5950, end=5950, confidence=0.5), Word(text='創', start=5950, end=5980, confidence=0.5), Word(text='造', start=5980, end=6010, confidence=0.664), Word(text='的', start=6010, end=6050, confidence=0.489), Word(text='價', start=6050, end=6090, confidence=0.5), Word(text='值', start=6090, end=6130, confidence=0.749), Word(text='其', start=6130, end=6170, confidence=0.076), Word(text='實', start=6170, end=6180, confidence=0.5), Word(text='都', start=6180, end=6190, confidence=0.149), Word(text='是', start=6190, end=6250, confidence=0.666), Word(text='很', start=6250, end=6270, confidence=0.0), Word(text='重', start=6270, end=6290, confidence=0.0), Word(text='要', start=6290, end=6350, confidence=0.779), Word(text='的', start=6350, end=6430, confidence=0.513), Word(text='元', start=6430, end=6490, confidence=0.667), Word(text='素', start=6490, end=6570, confidence=0.475), Word(text='來', start=6570, end=6580, confidence=0.5), Word(text='的', start=6580, end=6590, confidence=0.005), Word(text='士', start=19658, end=19838, confidence=0.888), Word(text='丹', start=19838, end=19998, confidence=0.875), Word(text='頓', start=19998, end=20058, confidence=0.5), Word(text='街', start=20058, end=20118, confidence=0.833), Word(text='一', start=20118, end=20298, confidence=0.889), Word(text='帶', start=20298, end=20368, confidence=0.5), Word(text='的', start=20368, end=20438, confidence=0.857), Word(text='唐', start=20438, end=20799, confidence=0.889), Word(text='樓', start=20799, end=20889, confidence=0.5), Word(text='活', start=20889, end=20979, confidence=0.889), Word(text='化', start=20979, end=21139, confidence=0.875), Word(text='工', start=21139, end=21319, confidence=0.894), Word(text='程', start=21319, end=21680, confidence=0.889), Word(text='已', start=21680, end=21880, confidence=0.899), Word(text='經', start=21880, end=22010, confidence=0.5), Word(text='完', start=22010, end=22140, confidence=0.861), Word(text='成', start=22140, end=22301, confidence=0.883), Word(text='而', start=22301, end=22961, confidence=0.912), Word(text='市', start=22961, end=23181, confidence=0.838), Word(text='建', start=23181, end=23342, confidence=0.875), Word(text='局', start=23342, end=23502, confidence=0.875), Word(text='亦', start=23502, end=23642, confidence=0.857), Word(text='都', start=23642, end=23782, confidence=0.932), Word(text='說', start=23782, end=23782, confidence=0.5), Word(text='將', start=23782, end=23782, confidence=0.5), Word(text='會', start=23782, end=24022, confidence=0.5), Word(text='引', start=24022, end=24263, confidence=0.838), Word(text='入', start=24263, end=24763, confidence=0.904), Word(text='共', start=24763, end=24943, confidence=0.889), Word(text='同', start=24943, end=25164, confidence=0.988), Word(text='租', start=25164, end=25364, confidence=0.9), Word(text='住', start=25364, end=25684, confidence=0.875), Word(text='單', start=25684, end=25754, confidence=0.5), Word(text='位', start=25754, end=25824, confidence=0.857), Word(text='的', start=25824, end=26085, confidence=0.923), Word(text='共', start=26085, end=26345, confidence=0.923), Word(text='居', start=26345, end=26505, confidence=0.874), Word(text='模', start=26505, end=26685, confidence=0.889), Word(text='式', start=26685, end=27146, confidence=0.956), Word(text='希', start=27146, end=27266, confidence=0.833), Word(text='望', start=27266, end=27406, confidence=0.857), Word(text='將', start=27406, end=27406, confidence=0.5), Word(text='來', start=27406, end=27406, confidence=0.5), Word(text='這', start=27406, end=27406, confidence=0.5), Word(text='裡', start=27406, end=27446, confidence=0.5), Word(text='可', start=27446, end=27486, confidence=0.75), Word(text='以', start=27486, end=27546, confidence=0.667), Word(text='變', start=27546, end=27626, confidence=0.5), Word(text='成', start=27626, end=27706, confidence=0.874), Word(text='一', start=27706, end=28027, confidence=0.876), Word(text='個', start=28027, end=28117, confidence=0.5), Word(text='充', start=28117, end=28207, confidence=0.889), Word(text='滿', start=28207, end=28277, confidence=0.5), Word(text='文', start=28277, end=28347, confidence=0.857), Word(text='化', start=28347, end=28487, confidence=0.867), Word(text='特', start=28487, end=28768, confidence=0.857), Word(text='色', start=28768, end=28948, confidence=0.888), Word(text='和', start=28948, end=29088, confidence=0.872), Word(text='活', start=29088, end=29248, confidence=0.875), Word(text='力', start=29248, end=29348, confidence=0.8), Word(text='的', start=29348, end=29408, confidence=0.667), Word(text='社', start=29408, end=29428, confidence=0.0), Word(text='區', start=29438, end=29728, confidence=0.5)]\n",
    "None"
   ]
  },
  {
   "cell_type": "code",
   "execution_count": null,
   "metadata": {},
   "outputs": [],
   "source": []
  }
 ],
 "metadata": {
  "kernelspec": {
   "display_name": "langauge_x_change",
   "language": "python",
   "name": "python3"
  },
  "language_info": {
   "codemirror_mode": {
    "name": "ipython",
    "version": 3
   },
   "file_extension": ".py",
   "mimetype": "text/x-python",
   "name": "python",
   "nbconvert_exporter": "python",
   "pygments_lexer": "ipython3",
   "version": "3.9.6"
  }
 },
 "nbformat": 4,
 "nbformat_minor": 2
}
