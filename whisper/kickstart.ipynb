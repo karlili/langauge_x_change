{
 "cells": [
  {
   "cell_type": "code",
   "execution_count": 1,
   "id": "597ee73e5e2a5a1f",
   "metadata": {
    "collapsed": false,
    "ExecuteTime": {
     "end_time": "2023-11-18T15:24:43.686429Z",
     "start_time": "2023-11-18T15:24:23.040645Z"
    }
   },
   "outputs": [
    {
     "name": "stdout",
     "output_type": "stream",
     "text": [
      "Requirement already satisfied: pip in /Users/kenny/Coding/langauge_x_change/venv/lib/python3.9/site-packages (23.2.1)\r\n",
      "Collecting pip\r\n",
      "  Obtaining dependency information for pip from https://files.pythonhosted.org/packages/47/6a/453160888fab7c6a432a6e25f8afe6256d0d9f2cbd25971021da6491d899/pip-23.3.1-py3-none-any.whl.metadata\r\n",
      "  Using cached pip-23.3.1-py3-none-any.whl.metadata (3.5 kB)\r\n",
      "Using cached pip-23.3.1-py3-none-any.whl (2.1 MB)\r\n",
      "Installing collected packages: pip\r\n",
      "  Attempting uninstall: pip\r\n",
      "    Found existing installation: pip 23.2.1\r\n",
      "    Uninstalling pip-23.2.1:\r\n",
      "      Successfully uninstalled pip-23.2.1\r\n",
      "Successfully installed pip-23.3.1\r\n",
      "Collecting git+https://github.com/huggingface/transformers.git\r\n",
      "  Cloning https://github.com/huggingface/transformers.git to /private/var/folders/1q/n_w7wck159d6t0_lt311ssmc0000gn/T/pip-req-build-jko00t6j\r\n",
      "  Running command git clone --filter=blob:none --quiet https://github.com/huggingface/transformers.git /private/var/folders/1q/n_w7wck159d6t0_lt311ssmc0000gn/T/pip-req-build-jko00t6j\r\n",
      "  Resolved https://github.com/huggingface/transformers.git to commit d1a00f9dd0b851245e4a54cbd70816a80e781ec2\r\n",
      "  Installing build dependencies ... \u001B[?25ldone\r\n",
      "\u001B[?25h  Getting requirements to build wheel ... \u001B[?25ldone\r\n",
      "\u001B[?25h  Preparing metadata (pyproject.toml) ... \u001B[?25ldone\r\n",
      "\u001B[?25hRequirement already satisfied: accelerate in /Users/kenny/Coding/langauge_x_change/venv/lib/python3.9/site-packages (0.24.1)\r\n",
      "Requirement already satisfied: filelock in /Users/kenny/Coding/langauge_x_change/venv/lib/python3.9/site-packages (from transformers==4.36.0.dev0) (3.13.1)\r\n",
      "Requirement already satisfied: huggingface-hub<1.0,>=0.19.3 in /Users/kenny/Coding/langauge_x_change/venv/lib/python3.9/site-packages (from transformers==4.36.0.dev0) (0.19.3)\r\n",
      "Requirement already satisfied: numpy>=1.17 in /Users/kenny/Coding/langauge_x_change/venv/lib/python3.9/site-packages (from transformers==4.36.0.dev0) (1.26.2)\r\n",
      "Requirement already satisfied: packaging>=20.0 in /Users/kenny/Coding/langauge_x_change/venv/lib/python3.9/site-packages (from transformers==4.36.0.dev0) (23.2)\r\n",
      "Requirement already satisfied: pyyaml>=5.1 in /Users/kenny/Coding/langauge_x_change/venv/lib/python3.9/site-packages (from transformers==4.36.0.dev0) (6.0.1)\r\n",
      "Requirement already satisfied: regex!=2019.12.17 in /Users/kenny/Coding/langauge_x_change/venv/lib/python3.9/site-packages (from transformers==4.36.0.dev0) (2023.10.3)\r\n",
      "Requirement already satisfied: requests in /Users/kenny/Coding/langauge_x_change/venv/lib/python3.9/site-packages (from transformers==4.36.0.dev0) (2.31.0)\r\n",
      "Requirement already satisfied: tokenizers<0.19,>=0.14 in /Users/kenny/Coding/langauge_x_change/venv/lib/python3.9/site-packages (from transformers==4.36.0.dev0) (0.15.0)\r\n",
      "Requirement already satisfied: safetensors>=0.3.1 in /Users/kenny/Coding/langauge_x_change/venv/lib/python3.9/site-packages (from transformers==4.36.0.dev0) (0.4.0)\r\n",
      "Requirement already satisfied: tqdm>=4.27 in /Users/kenny/Coding/langauge_x_change/venv/lib/python3.9/site-packages (from transformers==4.36.0.dev0) (4.66.1)\r\n",
      "Requirement already satisfied: psutil in /Users/kenny/Coding/langauge_x_change/venv/lib/python3.9/site-packages (from accelerate) (5.9.6)\r\n",
      "Requirement already satisfied: torch>=1.10.0 in /Users/kenny/Coding/langauge_x_change/venv/lib/python3.9/site-packages (from accelerate) (2.1.1)\r\n",
      "Requirement already satisfied: fsspec>=2023.5.0 in /Users/kenny/Coding/langauge_x_change/venv/lib/python3.9/site-packages (from huggingface-hub<1.0,>=0.19.3->transformers==4.36.0.dev0) (2023.10.0)\r\n",
      "Requirement already satisfied: typing-extensions>=3.7.4.3 in /Users/kenny/Coding/langauge_x_change/venv/lib/python3.9/site-packages (from huggingface-hub<1.0,>=0.19.3->transformers==4.36.0.dev0) (4.8.0)\r\n",
      "Requirement already satisfied: sympy in /Users/kenny/Coding/langauge_x_change/venv/lib/python3.9/site-packages (from torch>=1.10.0->accelerate) (1.12)\r\n",
      "Requirement already satisfied: networkx in /Users/kenny/Coding/langauge_x_change/venv/lib/python3.9/site-packages (from torch>=1.10.0->accelerate) (3.2.1)\r\n",
      "Requirement already satisfied: jinja2 in /Users/kenny/Coding/langauge_x_change/venv/lib/python3.9/site-packages (from torch>=1.10.0->accelerate) (3.1.2)\r\n",
      "Requirement already satisfied: charset-normalizer<4,>=2 in /Users/kenny/Coding/langauge_x_change/venv/lib/python3.9/site-packages (from requests->transformers==4.36.0.dev0) (3.3.2)\r\n",
      "Requirement already satisfied: idna<4,>=2.5 in /Users/kenny/Coding/langauge_x_change/venv/lib/python3.9/site-packages (from requests->transformers==4.36.0.dev0) (3.4)\r\n",
      "Requirement already satisfied: urllib3<3,>=1.21.1 in /Users/kenny/Coding/langauge_x_change/venv/lib/python3.9/site-packages (from requests->transformers==4.36.0.dev0) (2.1.0)\r\n",
      "Requirement already satisfied: certifi>=2017.4.17 in /Users/kenny/Coding/langauge_x_change/venv/lib/python3.9/site-packages (from requests->transformers==4.36.0.dev0) (2023.7.22)\r\n",
      "Requirement already satisfied: MarkupSafe>=2.0 in /Users/kenny/Coding/langauge_x_change/venv/lib/python3.9/site-packages (from jinja2->torch>=1.10.0->accelerate) (2.1.3)\r\n",
      "Requirement already satisfied: mpmath>=0.19 in /Users/kenny/Coding/langauge_x_change/venv/lib/python3.9/site-packages (from sympy->torch>=1.10.0->accelerate) (1.3.0)\r\n",
      "Requirement already satisfied: torch in /Users/kenny/Coding/langauge_x_change/venv/lib/python3.9/site-packages (2.1.1)\r\n",
      "Requirement already satisfied: torchvision in /Users/kenny/Coding/langauge_x_change/venv/lib/python3.9/site-packages (0.16.1)\r\n",
      "Requirement already satisfied: torchaudio in /Users/kenny/Coding/langauge_x_change/venv/lib/python3.9/site-packages (2.1.1)\r\n",
      "Requirement already satisfied: filelock in /Users/kenny/Coding/langauge_x_change/venv/lib/python3.9/site-packages (from torch) (3.13.1)\r\n",
      "Requirement already satisfied: typing-extensions in /Users/kenny/Coding/langauge_x_change/venv/lib/python3.9/site-packages (from torch) (4.8.0)\r\n",
      "Requirement already satisfied: sympy in /Users/kenny/Coding/langauge_x_change/venv/lib/python3.9/site-packages (from torch) (1.12)\r\n",
      "Requirement already satisfied: networkx in /Users/kenny/Coding/langauge_x_change/venv/lib/python3.9/site-packages (from torch) (3.2.1)\r\n",
      "Requirement already satisfied: jinja2 in /Users/kenny/Coding/langauge_x_change/venv/lib/python3.9/site-packages (from torch) (3.1.2)\r\n",
      "Requirement already satisfied: fsspec in /Users/kenny/Coding/langauge_x_change/venv/lib/python3.9/site-packages (from torch) (2023.10.0)\r\n",
      "Requirement already satisfied: numpy in /Users/kenny/Coding/langauge_x_change/venv/lib/python3.9/site-packages (from torchvision) (1.26.2)\r\n",
      "Requirement already satisfied: requests in /Users/kenny/Coding/langauge_x_change/venv/lib/python3.9/site-packages (from torchvision) (2.31.0)\r\n",
      "Requirement already satisfied: pillow!=8.3.*,>=5.3.0 in /Users/kenny/Coding/langauge_x_change/venv/lib/python3.9/site-packages (from torchvision) (10.1.0)\r\n",
      "Requirement already satisfied: MarkupSafe>=2.0 in /Users/kenny/Coding/langauge_x_change/venv/lib/python3.9/site-packages (from jinja2->torch) (2.1.3)\r\n",
      "Requirement already satisfied: charset-normalizer<4,>=2 in /Users/kenny/Coding/langauge_x_change/venv/lib/python3.9/site-packages (from requests->torchvision) (3.3.2)\r\n",
      "Requirement already satisfied: idna<4,>=2.5 in /Users/kenny/Coding/langauge_x_change/venv/lib/python3.9/site-packages (from requests->torchvision) (3.4)\r\n",
      "Requirement already satisfied: urllib3<3,>=1.21.1 in /Users/kenny/Coding/langauge_x_change/venv/lib/python3.9/site-packages (from requests->torchvision) (2.1.0)\r\n",
      "Requirement already satisfied: certifi>=2017.4.17 in /Users/kenny/Coding/langauge_x_change/venv/lib/python3.9/site-packages (from requests->torchvision) (2023.7.22)\r\n",
      "Requirement already satisfied: mpmath>=0.19 in /Users/kenny/Coding/langauge_x_change/venv/lib/python3.9/site-packages (from sympy->torch) (1.3.0)\r\n"
     ]
    }
   ],
   "source": [
    "!pip install --upgrade pip\n",
    "\n",
    "!pip install git+https://github.com/huggingface/transformers.git accelerate\n",
    "!pip install torch torchvision torchaudio"
   ]
  },
  {
   "cell_type": "code",
   "execution_count": 2,
   "id": "4f93e62954527044",
   "metadata": {
    "collapsed": false,
    "ExecuteTime": {
     "end_time": "2023-11-18T15:25:47.186307Z",
     "start_time": "2023-11-18T15:25:46.045311Z"
    }
   },
   "outputs": [
    {
     "name": "stdout",
     "output_type": "stream",
     "text": [
      "Requirement already satisfied: ffmpeg-python in /Users/kenny/Coding/langauge_x_change/venv/lib/python3.9/site-packages (0.2.0)\r\n",
      "Requirement already satisfied: future in /Users/kenny/Coding/langauge_x_change/venv/lib/python3.9/site-packages (from ffmpeg-python) (0.18.3)\r\n"
     ]
    }
   ],
   "source": [
    "!pip install ffmpeg-python"
   ]
  },
  {
   "cell_type": "code",
   "execution_count": null,
   "id": "44379d6790be0538",
   "metadata": {
    "collapsed": false,
    "ExecuteTime": {
     "start_time": "2023-11-18T15:26:35.713501Z"
    }
   },
   "outputs": [
    {
     "name": "stderr",
     "output_type": "stream",
     "text": [
      "Special tokens have been added in the vocabulary, make sure the associated word embeddings are fine-tuned or trained.\n"
     ]
    }
   ],
   "source": [
    "import torch\n",
    "import json\n",
    "import datetime\n",
    "\n",
    "from transformers import AutoModelForSpeechSeq2Seq, AutoProcessor, pipeline\n",
    "\n",
    "# device = \"cuda:0\" if torch.cuda.is_available() else \"cpu\"\n",
    "device =\"cpu\"\n",
    "# torch_dtype = torch.float16 if torch.cuda.is_available() else torch.float32\n",
    "torch_dtype=torch.float32\n",
    "\n",
    "model_id = \"openai/whisper-large-v3\"\n",
    "\n",
    "model = AutoModelForSpeechSeq2Seq.from_pretrained(\n",
    "    model_id, torch_dtype=torch_dtype, low_cpu_mem_usage=True, use_safetensors=True\n",
    ")\n",
    "model.to(device)\n",
    "\n",
    "processor = AutoProcessor.from_pretrained(model_id)\n",
    "\n",
    "pipe = pipeline(\n",
    "    \"automatic-speech-recognition\",\n",
    "    model=model,\n",
    "    tokenizer=processor.tokenizer,\n",
    "    feature_extractor=processor.feature_extractor,\n",
    "    max_new_tokens=128,\n",
    "    chunk_length_s=30,\n",
    "    batch_size=16,\n",
    "    return_timestamps=True,\n",
    "    torch_dtype=torch_dtype,\n",
    "    device=device,\n",
    "    generate_kwargs={\"language\": \"cantonese\"}\n",
    ")\n",
    "\n",
    "\n",
    "# this is the place you modify your input - the name of the mp3 file you want to run\n",
    "result = pipe(\"sample.mp3\")\n",
    "\n",
    "# then it will write the response in a json file named as the current date time\n",
    "now = datetime.datetime.now().strftime(\"%d-%m-%Y-%H-%M-%S\")\n",
    "json_object = json.dumps(result, indent=4)\n",
    "with open(now+\".json\", \"w\") as f:\n",
    "    f.write(json_object)\n",
    "\n",
    "# also it will print out the result in the following output block\n",
    "print(result)"
   ]
  },
  {
   "cell_type": "code",
   "execution_count": 1,
   "outputs": [
    {
     "name": "stdout",
     "output_type": "stream",
     "text": [
      "Requirement already satisfied: pyannote.audio in /Users/kenny/Coding/langauge_x_change/venv/lib/python3.9/site-packages (3.1.0)\r\n",
      "Requirement already satisfied: asteroid-filterbanks>=0.4 in /Users/kenny/Coding/langauge_x_change/venv/lib/python3.9/site-packages (from pyannote.audio) (0.4.0)\r\n",
      "Requirement already satisfied: einops>=0.6.0 in /Users/kenny/Coding/langauge_x_change/venv/lib/python3.9/site-packages (from pyannote.audio) (0.7.0)\r\n",
      "Requirement already satisfied: huggingface-hub>=0.13.0 in /Users/kenny/Coding/langauge_x_change/venv/lib/python3.9/site-packages (from pyannote.audio) (0.19.3)\r\n",
      "Requirement already satisfied: lightning>=2.0.1 in /Users/kenny/Coding/langauge_x_change/venv/lib/python3.9/site-packages (from pyannote.audio) (2.1.2)\r\n",
      "Requirement already satisfied: omegaconf<3.0,>=2.1 in /Users/kenny/Coding/langauge_x_change/venv/lib/python3.9/site-packages (from pyannote.audio) (2.3.0)\r\n",
      "Requirement already satisfied: pyannote.core>=5.0.0 in /Users/kenny/Coding/langauge_x_change/venv/lib/python3.9/site-packages (from pyannote.audio) (5.0.0)\r\n",
      "Requirement already satisfied: pyannote.database>=5.0.1 in /Users/kenny/Coding/langauge_x_change/venv/lib/python3.9/site-packages (from pyannote.audio) (5.0.1)\r\n",
      "Requirement already satisfied: pyannote.metrics>=3.2 in /Users/kenny/Coding/langauge_x_change/venv/lib/python3.9/site-packages (from pyannote.audio) (3.2.1)\r\n",
      "Requirement already satisfied: pyannote.pipeline>=3.0.1 in /Users/kenny/Coding/langauge_x_change/venv/lib/python3.9/site-packages (from pyannote.audio) (3.0.1)\r\n",
      "Requirement already satisfied: pytorch-metric-learning>=2.1.0 in /Users/kenny/Coding/langauge_x_change/venv/lib/python3.9/site-packages (from pyannote.audio) (2.3.0)\r\n",
      "Requirement already satisfied: rich>=12.0.0 in /Users/kenny/Coding/langauge_x_change/venv/lib/python3.9/site-packages (from pyannote.audio) (13.7.0)\r\n",
      "Requirement already satisfied: semver>=3.0.0 in /Users/kenny/Coding/langauge_x_change/venv/lib/python3.9/site-packages (from pyannote.audio) (3.0.2)\r\n",
      "Requirement already satisfied: soundfile>=0.12.1 in /Users/kenny/Coding/langauge_x_change/venv/lib/python3.9/site-packages (from pyannote.audio) (0.12.1)\r\n",
      "Requirement already satisfied: speechbrain>=0.5.14 in /Users/kenny/Coding/langauge_x_change/venv/lib/python3.9/site-packages (from pyannote.audio) (0.5.15)\r\n",
      "Requirement already satisfied: tensorboardX>=2.6 in /Users/kenny/Coding/langauge_x_change/venv/lib/python3.9/site-packages (from pyannote.audio) (2.6.2.2)\r\n",
      "Requirement already satisfied: torch>=2.0.0 in /Users/kenny/Coding/langauge_x_change/venv/lib/python3.9/site-packages (from pyannote.audio) (2.1.1)\r\n",
      "Requirement already satisfied: torch-audiomentations>=0.11.0 in /Users/kenny/Coding/langauge_x_change/venv/lib/python3.9/site-packages (from pyannote.audio) (0.11.0)\r\n",
      "Requirement already satisfied: torchaudio>=2.0.0 in /Users/kenny/Coding/langauge_x_change/venv/lib/python3.9/site-packages (from pyannote.audio) (2.1.1)\r\n",
      "Requirement already satisfied: torchmetrics>=0.11.0 in /Users/kenny/Coding/langauge_x_change/venv/lib/python3.9/site-packages (from pyannote.audio) (1.2.0)\r\n",
      "Requirement already satisfied: numpy in /Users/kenny/Coding/langauge_x_change/venv/lib/python3.9/site-packages (from asteroid-filterbanks>=0.4->pyannote.audio) (1.26.2)\r\n",
      "Requirement already satisfied: typing-extensions in /Users/kenny/Coding/langauge_x_change/venv/lib/python3.9/site-packages (from asteroid-filterbanks>=0.4->pyannote.audio) (4.8.0)\r\n",
      "Requirement already satisfied: filelock in /Users/kenny/Coding/langauge_x_change/venv/lib/python3.9/site-packages (from huggingface-hub>=0.13.0->pyannote.audio) (3.13.1)\r\n",
      "Requirement already satisfied: fsspec>=2023.5.0 in /Users/kenny/Coding/langauge_x_change/venv/lib/python3.9/site-packages (from huggingface-hub>=0.13.0->pyannote.audio) (2023.10.0)\r\n",
      "Requirement already satisfied: requests in /Users/kenny/Coding/langauge_x_change/venv/lib/python3.9/site-packages (from huggingface-hub>=0.13.0->pyannote.audio) (2.31.0)\r\n",
      "Requirement already satisfied: tqdm>=4.42.1 in /Users/kenny/Coding/langauge_x_change/venv/lib/python3.9/site-packages (from huggingface-hub>=0.13.0->pyannote.audio) (4.66.1)\r\n",
      "Requirement already satisfied: pyyaml>=5.1 in /Users/kenny/Coding/langauge_x_change/venv/lib/python3.9/site-packages (from huggingface-hub>=0.13.0->pyannote.audio) (6.0.1)\r\n",
      "Requirement already satisfied: packaging>=20.9 in /Users/kenny/Coding/langauge_x_change/venv/lib/python3.9/site-packages (from huggingface-hub>=0.13.0->pyannote.audio) (23.2)\r\n",
      "Requirement already satisfied: lightning-utilities<2.0,>=0.8.0 in /Users/kenny/Coding/langauge_x_change/venv/lib/python3.9/site-packages (from lightning>=2.0.1->pyannote.audio) (0.10.0)\r\n",
      "Requirement already satisfied: pytorch-lightning in /Users/kenny/Coding/langauge_x_change/venv/lib/python3.9/site-packages (from lightning>=2.0.1->pyannote.audio) (2.1.2)\r\n",
      "Requirement already satisfied: antlr4-python3-runtime==4.9.* in /Users/kenny/Coding/langauge_x_change/venv/lib/python3.9/site-packages (from omegaconf<3.0,>=2.1->pyannote.audio) (4.9.3)\r\n",
      "Requirement already satisfied: sortedcontainers>=2.0.4 in /Users/kenny/Coding/langauge_x_change/venv/lib/python3.9/site-packages (from pyannote.core>=5.0.0->pyannote.audio) (2.4.0)\r\n",
      "Requirement already satisfied: scipy>=1.1 in /Users/kenny/Coding/langauge_x_change/venv/lib/python3.9/site-packages (from pyannote.core>=5.0.0->pyannote.audio) (1.11.3)\r\n",
      "Requirement already satisfied: pandas>=0.19 in /Users/kenny/Coding/langauge_x_change/venv/lib/python3.9/site-packages (from pyannote.database>=5.0.1->pyannote.audio) (2.1.3)\r\n",
      "Requirement already satisfied: typer>=0.2.1 in /Users/kenny/Coding/langauge_x_change/venv/lib/python3.9/site-packages (from typer[all]>=0.2.1->pyannote.database>=5.0.1->pyannote.audio) (0.9.0)\r\n",
      "Requirement already satisfied: scikit-learn>=0.17.1 in /Users/kenny/Coding/langauge_x_change/venv/lib/python3.9/site-packages (from pyannote.metrics>=3.2->pyannote.audio) (1.3.2)\r\n",
      "Requirement already satisfied: docopt>=0.6.2 in /Users/kenny/Coding/langauge_x_change/venv/lib/python3.9/site-packages (from pyannote.metrics>=3.2->pyannote.audio) (0.6.2)\r\n",
      "Requirement already satisfied: tabulate>=0.7.7 in /Users/kenny/Coding/langauge_x_change/venv/lib/python3.9/site-packages (from pyannote.metrics>=3.2->pyannote.audio) (0.9.0)\r\n",
      "Requirement already satisfied: matplotlib>=2.0.0 in /Users/kenny/Coding/langauge_x_change/venv/lib/python3.9/site-packages (from pyannote.metrics>=3.2->pyannote.audio) (3.8.2)\r\n",
      "Requirement already satisfied: sympy>=1.1 in /Users/kenny/Coding/langauge_x_change/venv/lib/python3.9/site-packages (from pyannote.metrics>=3.2->pyannote.audio) (1.12)\r\n",
      "Requirement already satisfied: optuna>=3.1 in /Users/kenny/Coding/langauge_x_change/venv/lib/python3.9/site-packages (from pyannote.pipeline>=3.0.1->pyannote.audio) (3.4.0)\r\n",
      "Requirement already satisfied: markdown-it-py>=2.2.0 in /Users/kenny/Coding/langauge_x_change/venv/lib/python3.9/site-packages (from rich>=12.0.0->pyannote.audio) (3.0.0)\r\n",
      "Requirement already satisfied: pygments<3.0.0,>=2.13.0 in /Users/kenny/Coding/langauge_x_change/venv/lib/python3.9/site-packages (from rich>=12.0.0->pyannote.audio) (2.16.1)\r\n",
      "Requirement already satisfied: cffi>=1.0 in /Users/kenny/Coding/langauge_x_change/venv/lib/python3.9/site-packages (from soundfile>=0.12.1->pyannote.audio) (1.16.0)\r\n",
      "Requirement already satisfied: hyperpyyaml in /Users/kenny/Coding/langauge_x_change/venv/lib/python3.9/site-packages (from speechbrain>=0.5.14->pyannote.audio) (1.2.2)\r\n",
      "Requirement already satisfied: joblib in /Users/kenny/Coding/langauge_x_change/venv/lib/python3.9/site-packages (from speechbrain>=0.5.14->pyannote.audio) (1.3.2)\r\n",
      "Requirement already satisfied: sentencepiece in /Users/kenny/Coding/langauge_x_change/venv/lib/python3.9/site-packages (from speechbrain>=0.5.14->pyannote.audio) (0.1.99)\r\n",
      "Requirement already satisfied: protobuf>=3.20 in /Users/kenny/Coding/langauge_x_change/venv/lib/python3.9/site-packages (from tensorboardX>=2.6->pyannote.audio) (4.25.1)\r\n",
      "Requirement already satisfied: networkx in /Users/kenny/Coding/langauge_x_change/venv/lib/python3.9/site-packages (from torch>=2.0.0->pyannote.audio) (3.2.1)\r\n",
      "Requirement already satisfied: jinja2 in /Users/kenny/Coding/langauge_x_change/venv/lib/python3.9/site-packages (from torch>=2.0.0->pyannote.audio) (3.1.2)\r\n",
      "Requirement already satisfied: julius<0.3,>=0.2.3 in /Users/kenny/Coding/langauge_x_change/venv/lib/python3.9/site-packages (from torch-audiomentations>=0.11.0->pyannote.audio) (0.2.7)\r\n",
      "Requirement already satisfied: librosa>=0.6.0 in /Users/kenny/Coding/langauge_x_change/venv/lib/python3.9/site-packages (from torch-audiomentations>=0.11.0->pyannote.audio) (0.10.1)\r\n",
      "Requirement already satisfied: torch-pitch-shift>=1.2.2 in /Users/kenny/Coding/langauge_x_change/venv/lib/python3.9/site-packages (from torch-audiomentations>=0.11.0->pyannote.audio) (1.2.4)\r\n",
      "Requirement already satisfied: pycparser in /Users/kenny/Coding/langauge_x_change/venv/lib/python3.9/site-packages (from cffi>=1.0->soundfile>=0.12.1->pyannote.audio) (2.21)\r\n",
      "Requirement already satisfied: aiohttp!=4.0.0a0,!=4.0.0a1 in /Users/kenny/Coding/langauge_x_change/venv/lib/python3.9/site-packages (from fsspec[http]<2025.0,>2021.06.0->lightning>=2.0.1->pyannote.audio) (3.9.0)\r\n",
      "Requirement already satisfied: audioread>=2.1.9 in /Users/kenny/Coding/langauge_x_change/venv/lib/python3.9/site-packages (from librosa>=0.6.0->torch-audiomentations>=0.11.0->pyannote.audio) (3.0.1)\r\n",
      "Requirement already satisfied: decorator>=4.3.0 in /Users/kenny/Coding/langauge_x_change/venv/lib/python3.9/site-packages (from librosa>=0.6.0->torch-audiomentations>=0.11.0->pyannote.audio) (5.1.1)\r\n",
      "Requirement already satisfied: numba>=0.51.0 in /Users/kenny/Coding/langauge_x_change/venv/lib/python3.9/site-packages (from librosa>=0.6.0->torch-audiomentations>=0.11.0->pyannote.audio) (0.58.1)\r\n",
      "Requirement already satisfied: pooch>=1.0 in /Users/kenny/Coding/langauge_x_change/venv/lib/python3.9/site-packages (from librosa>=0.6.0->torch-audiomentations>=0.11.0->pyannote.audio) (1.8.0)\r\n",
      "Requirement already satisfied: soxr>=0.3.2 in /Users/kenny/Coding/langauge_x_change/venv/lib/python3.9/site-packages (from librosa>=0.6.0->torch-audiomentations>=0.11.0->pyannote.audio) (0.3.7)\r\n",
      "Requirement already satisfied: lazy-loader>=0.1 in /Users/kenny/Coding/langauge_x_change/venv/lib/python3.9/site-packages (from librosa>=0.6.0->torch-audiomentations>=0.11.0->pyannote.audio) (0.3)\r\n",
      "Requirement already satisfied: msgpack>=1.0 in /Users/kenny/Coding/langauge_x_change/venv/lib/python3.9/site-packages (from librosa>=0.6.0->torch-audiomentations>=0.11.0->pyannote.audio) (1.0.7)\r\n",
      "Requirement already satisfied: setuptools in /Users/kenny/Coding/langauge_x_change/venv/lib/python3.9/site-packages (from lightning-utilities<2.0,>=0.8.0->lightning>=2.0.1->pyannote.audio) (68.2.0)\r\n",
      "Requirement already satisfied: mdurl~=0.1 in /Users/kenny/Coding/langauge_x_change/venv/lib/python3.9/site-packages (from markdown-it-py>=2.2.0->rich>=12.0.0->pyannote.audio) (0.1.2)\r\n",
      "Requirement already satisfied: contourpy>=1.0.1 in /Users/kenny/Coding/langauge_x_change/venv/lib/python3.9/site-packages (from matplotlib>=2.0.0->pyannote.metrics>=3.2->pyannote.audio) (1.2.0)\r\n",
      "Requirement already satisfied: cycler>=0.10 in /Users/kenny/Coding/langauge_x_change/venv/lib/python3.9/site-packages (from matplotlib>=2.0.0->pyannote.metrics>=3.2->pyannote.audio) (0.12.1)\r\n",
      "Requirement already satisfied: fonttools>=4.22.0 in /Users/kenny/Coding/langauge_x_change/venv/lib/python3.9/site-packages (from matplotlib>=2.0.0->pyannote.metrics>=3.2->pyannote.audio) (4.44.3)\r\n",
      "Requirement already satisfied: kiwisolver>=1.3.1 in /Users/kenny/Coding/langauge_x_change/venv/lib/python3.9/site-packages (from matplotlib>=2.0.0->pyannote.metrics>=3.2->pyannote.audio) (1.4.5)\r\n",
      "Requirement already satisfied: pillow>=8 in /Users/kenny/Coding/langauge_x_change/venv/lib/python3.9/site-packages (from matplotlib>=2.0.0->pyannote.metrics>=3.2->pyannote.audio) (10.1.0)\r\n",
      "Requirement already satisfied: pyparsing>=2.3.1 in /Users/kenny/Coding/langauge_x_change/venv/lib/python3.9/site-packages (from matplotlib>=2.0.0->pyannote.metrics>=3.2->pyannote.audio) (3.1.1)\r\n",
      "Requirement already satisfied: python-dateutil>=2.7 in /Users/kenny/Coding/langauge_x_change/venv/lib/python3.9/site-packages (from matplotlib>=2.0.0->pyannote.metrics>=3.2->pyannote.audio) (2.8.2)\r\n",
      "Requirement already satisfied: importlib-resources>=3.2.0 in /Users/kenny/Coding/langauge_x_change/venv/lib/python3.9/site-packages (from matplotlib>=2.0.0->pyannote.metrics>=3.2->pyannote.audio) (6.1.1)\r\n",
      "Requirement already satisfied: alembic>=1.5.0 in /Users/kenny/Coding/langauge_x_change/venv/lib/python3.9/site-packages (from optuna>=3.1->pyannote.pipeline>=3.0.1->pyannote.audio) (1.12.1)\r\n",
      "Requirement already satisfied: colorlog in /Users/kenny/Coding/langauge_x_change/venv/lib/python3.9/site-packages (from optuna>=3.1->pyannote.pipeline>=3.0.1->pyannote.audio) (6.7.0)\r\n",
      "Requirement already satisfied: sqlalchemy>=1.3.0 in /Users/kenny/Coding/langauge_x_change/venv/lib/python3.9/site-packages (from optuna>=3.1->pyannote.pipeline>=3.0.1->pyannote.audio) (2.0.23)\r\n",
      "Requirement already satisfied: pytz>=2020.1 in /Users/kenny/Coding/langauge_x_change/venv/lib/python3.9/site-packages (from pandas>=0.19->pyannote.database>=5.0.1->pyannote.audio) (2023.3.post1)\r\n",
      "Requirement already satisfied: tzdata>=2022.1 in /Users/kenny/Coding/langauge_x_change/venv/lib/python3.9/site-packages (from pandas>=0.19->pyannote.database>=5.0.1->pyannote.audio) (2023.3)\r\n",
      "Requirement already satisfied: threadpoolctl>=2.0.0 in /Users/kenny/Coding/langauge_x_change/venv/lib/python3.9/site-packages (from scikit-learn>=0.17.1->pyannote.metrics>=3.2->pyannote.audio) (3.2.0)\r\n",
      "Requirement already satisfied: mpmath>=0.19 in /Users/kenny/Coding/langauge_x_change/venv/lib/python3.9/site-packages (from sympy>=1.1->pyannote.metrics>=3.2->pyannote.audio) (1.3.0)\r\n",
      "Requirement already satisfied: primePy>=1.3 in /Users/kenny/Coding/langauge_x_change/venv/lib/python3.9/site-packages (from torch-pitch-shift>=1.2.2->torch-audiomentations>=0.11.0->pyannote.audio) (1.3)\r\n",
      "Requirement already satisfied: click<9.0.0,>=7.1.1 in /Users/kenny/Coding/langauge_x_change/venv/lib/python3.9/site-packages (from typer>=0.2.1->typer[all]>=0.2.1->pyannote.database>=5.0.1->pyannote.audio) (8.1.7)\r\n",
      "Requirement already satisfied: colorama<0.5.0,>=0.4.3 in /Users/kenny/Coding/langauge_x_change/venv/lib/python3.9/site-packages (from typer[all]>=0.2.1->pyannote.database>=5.0.1->pyannote.audio) (0.4.6)\r\n",
      "Requirement already satisfied: shellingham<2.0.0,>=1.3.0 in /Users/kenny/Coding/langauge_x_change/venv/lib/python3.9/site-packages (from typer[all]>=0.2.1->pyannote.database>=5.0.1->pyannote.audio) (1.5.4)\r\n",
      "Requirement already satisfied: ruamel.yaml>=0.17.28 in /Users/kenny/Coding/langauge_x_change/venv/lib/python3.9/site-packages (from hyperpyyaml->speechbrain>=0.5.14->pyannote.audio) (0.18.5)\r\n",
      "Requirement already satisfied: MarkupSafe>=2.0 in /Users/kenny/Coding/langauge_x_change/venv/lib/python3.9/site-packages (from jinja2->torch>=2.0.0->pyannote.audio) (2.1.3)\r\n",
      "Requirement already satisfied: charset-normalizer<4,>=2 in /Users/kenny/Coding/langauge_x_change/venv/lib/python3.9/site-packages (from requests->huggingface-hub>=0.13.0->pyannote.audio) (3.3.2)\r\n",
      "Requirement already satisfied: idna<4,>=2.5 in /Users/kenny/Coding/langauge_x_change/venv/lib/python3.9/site-packages (from requests->huggingface-hub>=0.13.0->pyannote.audio) (3.4)\r\n",
      "Requirement already satisfied: urllib3<3,>=1.21.1 in /Users/kenny/Coding/langauge_x_change/venv/lib/python3.9/site-packages (from requests->huggingface-hub>=0.13.0->pyannote.audio) (2.1.0)\r\n",
      "Requirement already satisfied: certifi>=2017.4.17 in /Users/kenny/Coding/langauge_x_change/venv/lib/python3.9/site-packages (from requests->huggingface-hub>=0.13.0->pyannote.audio) (2023.7.22)\r\n",
      "Requirement already satisfied: attrs>=17.3.0 in /Users/kenny/Coding/langauge_x_change/venv/lib/python3.9/site-packages (from aiohttp!=4.0.0a0,!=4.0.0a1->fsspec[http]<2025.0,>2021.06.0->lightning>=2.0.1->pyannote.audio) (23.1.0)\r\n",
      "Requirement already satisfied: multidict<7.0,>=4.5 in /Users/kenny/Coding/langauge_x_change/venv/lib/python3.9/site-packages (from aiohttp!=4.0.0a0,!=4.0.0a1->fsspec[http]<2025.0,>2021.06.0->lightning>=2.0.1->pyannote.audio) (6.0.4)\r\n",
      "Requirement already satisfied: yarl<2.0,>=1.0 in /Users/kenny/Coding/langauge_x_change/venv/lib/python3.9/site-packages (from aiohttp!=4.0.0a0,!=4.0.0a1->fsspec[http]<2025.0,>2021.06.0->lightning>=2.0.1->pyannote.audio) (1.9.2)\r\n",
      "Requirement already satisfied: frozenlist>=1.1.1 in /Users/kenny/Coding/langauge_x_change/venv/lib/python3.9/site-packages (from aiohttp!=4.0.0a0,!=4.0.0a1->fsspec[http]<2025.0,>2021.06.0->lightning>=2.0.1->pyannote.audio) (1.4.0)\r\n",
      "Requirement already satisfied: aiosignal>=1.1.2 in /Users/kenny/Coding/langauge_x_change/venv/lib/python3.9/site-packages (from aiohttp!=4.0.0a0,!=4.0.0a1->fsspec[http]<2025.0,>2021.06.0->lightning>=2.0.1->pyannote.audio) (1.3.1)\r\n",
      "Requirement already satisfied: async-timeout<5.0,>=4.0 in /Users/kenny/Coding/langauge_x_change/venv/lib/python3.9/site-packages (from aiohttp!=4.0.0a0,!=4.0.0a1->fsspec[http]<2025.0,>2021.06.0->lightning>=2.0.1->pyannote.audio) (4.0.3)\r\n",
      "Requirement already satisfied: Mako in /Users/kenny/Coding/langauge_x_change/venv/lib/python3.9/site-packages (from alembic>=1.5.0->optuna>=3.1->pyannote.pipeline>=3.0.1->pyannote.audio) (1.3.0)\r\n",
      "Requirement already satisfied: zipp>=3.1.0 in /Users/kenny/Coding/langauge_x_change/venv/lib/python3.9/site-packages (from importlib-resources>=3.2.0->matplotlib>=2.0.0->pyannote.metrics>=3.2->pyannote.audio) (3.17.0)\r\n",
      "Requirement already satisfied: llvmlite<0.42,>=0.41.0dev0 in /Users/kenny/Coding/langauge_x_change/venv/lib/python3.9/site-packages (from numba>=0.51.0->librosa>=0.6.0->torch-audiomentations>=0.11.0->pyannote.audio) (0.41.1)\r\n",
      "Requirement already satisfied: platformdirs>=2.5.0 in /Users/kenny/Coding/langauge_x_change/venv/lib/python3.9/site-packages (from pooch>=1.0->librosa>=0.6.0->torch-audiomentations>=0.11.0->pyannote.audio) (4.0.0)\r\n",
      "Requirement already satisfied: six>=1.5 in /Users/kenny/Coding/langauge_x_change/venv/lib/python3.9/site-packages (from python-dateutil>=2.7->matplotlib>=2.0.0->pyannote.metrics>=3.2->pyannote.audio) (1.16.0)\r\n",
      "Requirement already satisfied: ruamel.yaml.clib>=0.2.7 in /Users/kenny/Coding/langauge_x_change/venv/lib/python3.9/site-packages (from ruamel.yaml>=0.17.28->hyperpyyaml->speechbrain>=0.5.14->pyannote.audio) (0.2.8)\r\n"
     ]
    }
   ],
   "source": [
    "!pip install pyannote.audio"
   ],
   "metadata": {
    "collapsed": false,
    "ExecuteTime": {
     "end_time": "2023-11-18T16:28:17.215319Z",
     "start_time": "2023-11-18T16:28:15.062036Z"
    }
   },
   "id": "78bd32cf5dfdb6f2"
  },
  {
   "cell_type": "code",
   "execution_count": 2,
   "outputs": [
    {
     "name": "stderr",
     "output_type": "stream",
     "text": [
      "/Users/kenny/Coding/langauge_x_change/venv/lib/python3.9/site-packages/urllib3/__init__.py:34: NotOpenSSLWarning: urllib3 v2 only supports OpenSSL 1.1.1+, currently the 'ssl' module is compiled with 'LibreSSL 2.8.3'. See: https://github.com/urllib3/urllib3/issues/3020\n",
      "  warnings.warn(\n",
      "/Users/kenny/Coding/langauge_x_change/venv/lib/python3.9/site-packages/pyannote/audio/core/io.py:43: UserWarning: torchaudio._backend.set_audio_backend has been deprecated. With dispatcher enabled, this function is no-op. You can remove the function call.\n",
      "  torchaudio.set_audio_backend(\"soundfile\")\n",
      "/Users/kenny/Coding/langauge_x_change/venv/lib/python3.9/site-packages/torch_audiomentations/utils/io.py:27: UserWarning: torchaudio._backend.set_audio_backend has been deprecated. With dispatcher enabled, this function is no-op. You can remove the function call.\n",
      "  torchaudio.set_audio_backend(\"soundfile\")\n"
     ]
    }
   ],
   "source": [
    "from pyannote.audio import Pipeline\n",
    "pipeline = Pipeline.from_pretrained(\n",
    "  \"pyannote/speaker-diarization-3.1\",\n",
    "  use_auth_token=\"<HUGGING_FACE_USER_TOKEN>\")\n",
    "\n",
    "diarization = pipeline(\"sample.mp3\")\n",
    "\n",
    "# dump the diarization output to disk using RTTM format\n",
    "with open(\"audio.rttm\", \"w\") as rttm:\n",
    "    diarization.write_rttm(rttm)\n"
   ],
   "metadata": {
    "collapsed": false,
    "ExecuteTime": {
     "end_time": "2023-11-18T16:33:56.454584Z",
     "start_time": "2023-11-18T16:28:30.369519Z"
    }
   },
   "id": "9b45080dc9467226"
  },
  {
   "cell_type": "code",
   "execution_count": null,
   "outputs": [],
   "source": [],
   "metadata": {
    "collapsed": false
   },
   "id": "23c6c4b0d0c8250d"
  }
 ],
 "metadata": {
  "kernelspec": {
   "display_name": "Python 3",
   "language": "python",
   "name": "python3"
  },
  "language_info": {
   "codemirror_mode": {
    "name": "ipython",
    "version": 3
   },
   "file_extension": ".py",
   "mimetype": "text/x-python",
   "name": "python",
   "nbconvert_exporter": "python",
   "pygments_lexer": "ipython3",
   "version": "3.9.2"
  }
 },
 "nbformat": 4,
 "nbformat_minor": 5
}
