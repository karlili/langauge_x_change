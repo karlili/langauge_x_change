{
 "cells": [
  {
   "cell_type": "code",
   "execution_count": 1,
   "id": "597ee73e5e2a5a1f",
   "metadata": {
    "collapsed": false,
    "ExecuteTime": {
     "end_time": "2023-11-18T15:24:43.686429Z",
     "start_time": "2023-11-18T15:24:23.040645Z"
    }
   },
   "outputs": [
    {
     "name": "stdout",
     "output_type": "stream",
     "text": [
      "Requirement already satisfied: pip in /Users/kenny/Coding/langauge_x_change/venv/lib/python3.9/site-packages (23.2.1)\r\n",
      "Collecting pip\r\n",
      "  Obtaining dependency information for pip from https://files.pythonhosted.org/packages/47/6a/453160888fab7c6a432a6e25f8afe6256d0d9f2cbd25971021da6491d899/pip-23.3.1-py3-none-any.whl.metadata\r\n",
      "  Using cached pip-23.3.1-py3-none-any.whl.metadata (3.5 kB)\r\n",
      "Using cached pip-23.3.1-py3-none-any.whl (2.1 MB)\r\n",
      "Installing collected packages: pip\r\n",
      "  Attempting uninstall: pip\r\n",
      "    Found existing installation: pip 23.2.1\r\n",
      "    Uninstalling pip-23.2.1:\r\n",
      "      Successfully uninstalled pip-23.2.1\r\n",
      "Successfully installed pip-23.3.1\r\n",
      "Collecting git+https://github.com/huggingface/transformers.git\r\n",
      "  Cloning https://github.com/huggingface/transformers.git to /private/var/folders/1q/n_w7wck159d6t0_lt311ssmc0000gn/T/pip-req-build-jko00t6j\r\n",
      "  Running command git clone --filter=blob:none --quiet https://github.com/huggingface/transformers.git /private/var/folders/1q/n_w7wck159d6t0_lt311ssmc0000gn/T/pip-req-build-jko00t6j\r\n",
      "  Resolved https://github.com/huggingface/transformers.git to commit d1a00f9dd0b851245e4a54cbd70816a80e781ec2\r\n",
      "  Installing build dependencies ... \u001B[?25ldone\r\n",
      "\u001B[?25h  Getting requirements to build wheel ... \u001B[?25ldone\r\n",
      "\u001B[?25h  Preparing metadata (pyproject.toml) ... \u001B[?25ldone\r\n",
      "\u001B[?25hRequirement already satisfied: accelerate in /Users/kenny/Coding/langauge_x_change/venv/lib/python3.9/site-packages (0.24.1)\r\n",
      "Requirement already satisfied: filelock in /Users/kenny/Coding/langauge_x_change/venv/lib/python3.9/site-packages (from transformers==4.36.0.dev0) (3.13.1)\r\n",
      "Requirement already satisfied: huggingface-hub<1.0,>=0.19.3 in /Users/kenny/Coding/langauge_x_change/venv/lib/python3.9/site-packages (from transformers==4.36.0.dev0) (0.19.3)\r\n",
      "Requirement already satisfied: numpy>=1.17 in /Users/kenny/Coding/langauge_x_change/venv/lib/python3.9/site-packages (from transformers==4.36.0.dev0) (1.26.2)\r\n",
      "Requirement already satisfied: packaging>=20.0 in /Users/kenny/Coding/langauge_x_change/venv/lib/python3.9/site-packages (from transformers==4.36.0.dev0) (23.2)\r\n",
      "Requirement already satisfied: pyyaml>=5.1 in /Users/kenny/Coding/langauge_x_change/venv/lib/python3.9/site-packages (from transformers==4.36.0.dev0) (6.0.1)\r\n",
      "Requirement already satisfied: regex!=2019.12.17 in /Users/kenny/Coding/langauge_x_change/venv/lib/python3.9/site-packages (from transformers==4.36.0.dev0) (2023.10.3)\r\n",
      "Requirement already satisfied: requests in /Users/kenny/Coding/langauge_x_change/venv/lib/python3.9/site-packages (from transformers==4.36.0.dev0) (2.31.0)\r\n",
      "Requirement already satisfied: tokenizers<0.19,>=0.14 in /Users/kenny/Coding/langauge_x_change/venv/lib/python3.9/site-packages (from transformers==4.36.0.dev0) (0.15.0)\r\n",
      "Requirement already satisfied: safetensors>=0.3.1 in /Users/kenny/Coding/langauge_x_change/venv/lib/python3.9/site-packages (from transformers==4.36.0.dev0) (0.4.0)\r\n",
      "Requirement already satisfied: tqdm>=4.27 in /Users/kenny/Coding/langauge_x_change/venv/lib/python3.9/site-packages (from transformers==4.36.0.dev0) (4.66.1)\r\n",
      "Requirement already satisfied: psutil in /Users/kenny/Coding/langauge_x_change/venv/lib/python3.9/site-packages (from accelerate) (5.9.6)\r\n",
      "Requirement already satisfied: torch>=1.10.0 in /Users/kenny/Coding/langauge_x_change/venv/lib/python3.9/site-packages (from accelerate) (2.1.1)\r\n",
      "Requirement already satisfied: fsspec>=2023.5.0 in /Users/kenny/Coding/langauge_x_change/venv/lib/python3.9/site-packages (from huggingface-hub<1.0,>=0.19.3->transformers==4.36.0.dev0) (2023.10.0)\r\n",
      "Requirement already satisfied: typing-extensions>=3.7.4.3 in /Users/kenny/Coding/langauge_x_change/venv/lib/python3.9/site-packages (from huggingface-hub<1.0,>=0.19.3->transformers==4.36.0.dev0) (4.8.0)\r\n",
      "Requirement already satisfied: sympy in /Users/kenny/Coding/langauge_x_change/venv/lib/python3.9/site-packages (from torch>=1.10.0->accelerate) (1.12)\r\n",
      "Requirement already satisfied: networkx in /Users/kenny/Coding/langauge_x_change/venv/lib/python3.9/site-packages (from torch>=1.10.0->accelerate) (3.2.1)\r\n",
      "Requirement already satisfied: jinja2 in /Users/kenny/Coding/langauge_x_change/venv/lib/python3.9/site-packages (from torch>=1.10.0->accelerate) (3.1.2)\r\n",
      "Requirement already satisfied: charset-normalizer<4,>=2 in /Users/kenny/Coding/langauge_x_change/venv/lib/python3.9/site-packages (from requests->transformers==4.36.0.dev0) (3.3.2)\r\n",
      "Requirement already satisfied: idna<4,>=2.5 in /Users/kenny/Coding/langauge_x_change/venv/lib/python3.9/site-packages (from requests->transformers==4.36.0.dev0) (3.4)\r\n",
      "Requirement already satisfied: urllib3<3,>=1.21.1 in /Users/kenny/Coding/langauge_x_change/venv/lib/python3.9/site-packages (from requests->transformers==4.36.0.dev0) (2.1.0)\r\n",
      "Requirement already satisfied: certifi>=2017.4.17 in /Users/kenny/Coding/langauge_x_change/venv/lib/python3.9/site-packages (from requests->transformers==4.36.0.dev0) (2023.7.22)\r\n",
      "Requirement already satisfied: MarkupSafe>=2.0 in /Users/kenny/Coding/langauge_x_change/venv/lib/python3.9/site-packages (from jinja2->torch>=1.10.0->accelerate) (2.1.3)\r\n",
      "Requirement already satisfied: mpmath>=0.19 in /Users/kenny/Coding/langauge_x_change/venv/lib/python3.9/site-packages (from sympy->torch>=1.10.0->accelerate) (1.3.0)\r\n",
      "Requirement already satisfied: torch in /Users/kenny/Coding/langauge_x_change/venv/lib/python3.9/site-packages (2.1.1)\r\n",
      "Requirement already satisfied: torchvision in /Users/kenny/Coding/langauge_x_change/venv/lib/python3.9/site-packages (0.16.1)\r\n",
      "Requirement already satisfied: torchaudio in /Users/kenny/Coding/langauge_x_change/venv/lib/python3.9/site-packages (2.1.1)\r\n",
      "Requirement already satisfied: filelock in /Users/kenny/Coding/langauge_x_change/venv/lib/python3.9/site-packages (from torch) (3.13.1)\r\n",
      "Requirement already satisfied: typing-extensions in /Users/kenny/Coding/langauge_x_change/venv/lib/python3.9/site-packages (from torch) (4.8.0)\r\n",
      "Requirement already satisfied: sympy in /Users/kenny/Coding/langauge_x_change/venv/lib/python3.9/site-packages (from torch) (1.12)\r\n",
      "Requirement already satisfied: networkx in /Users/kenny/Coding/langauge_x_change/venv/lib/python3.9/site-packages (from torch) (3.2.1)\r\n",
      "Requirement already satisfied: jinja2 in /Users/kenny/Coding/langauge_x_change/venv/lib/python3.9/site-packages (from torch) (3.1.2)\r\n",
      "Requirement already satisfied: fsspec in /Users/kenny/Coding/langauge_x_change/venv/lib/python3.9/site-packages (from torch) (2023.10.0)\r\n",
      "Requirement already satisfied: numpy in /Users/kenny/Coding/langauge_x_change/venv/lib/python3.9/site-packages (from torchvision) (1.26.2)\r\n",
      "Requirement already satisfied: requests in /Users/kenny/Coding/langauge_x_change/venv/lib/python3.9/site-packages (from torchvision) (2.31.0)\r\n",
      "Requirement already satisfied: pillow!=8.3.*,>=5.3.0 in /Users/kenny/Coding/langauge_x_change/venv/lib/python3.9/site-packages (from torchvision) (10.1.0)\r\n",
      "Requirement already satisfied: MarkupSafe>=2.0 in /Users/kenny/Coding/langauge_x_change/venv/lib/python3.9/site-packages (from jinja2->torch) (2.1.3)\r\n",
      "Requirement already satisfied: charset-normalizer<4,>=2 in /Users/kenny/Coding/langauge_x_change/venv/lib/python3.9/site-packages (from requests->torchvision) (3.3.2)\r\n",
      "Requirement already satisfied: idna<4,>=2.5 in /Users/kenny/Coding/langauge_x_change/venv/lib/python3.9/site-packages (from requests->torchvision) (3.4)\r\n",
      "Requirement already satisfied: urllib3<3,>=1.21.1 in /Users/kenny/Coding/langauge_x_change/venv/lib/python3.9/site-packages (from requests->torchvision) (2.1.0)\r\n",
      "Requirement already satisfied: certifi>=2017.4.17 in /Users/kenny/Coding/langauge_x_change/venv/lib/python3.9/site-packages (from requests->torchvision) (2023.7.22)\r\n",
      "Requirement already satisfied: mpmath>=0.19 in /Users/kenny/Coding/langauge_x_change/venv/lib/python3.9/site-packages (from sympy->torch) (1.3.0)\r\n"
     ]
    }
   ],
   "source": [
    "!pip install --upgrade pip\n",
    "\n",
    "!pip install git+https://github.com/huggingface/transformers.git accelerate\n",
    "!pip install torch torchvision torchaudio"
   ]
  },
  {
   "cell_type": "code",
   "execution_count": 2,
   "id": "4f93e62954527044",
   "metadata": {
    "collapsed": false,
    "ExecuteTime": {
     "end_time": "2023-11-18T15:25:47.186307Z",
     "start_time": "2023-11-18T15:25:46.045311Z"
    }
   },
   "outputs": [
    {
     "name": "stdout",
     "output_type": "stream",
     "text": [
      "Requirement already satisfied: ffmpeg-python in /Users/kenny/Coding/langauge_x_change/venv/lib/python3.9/site-packages (0.2.0)\r\n",
      "Requirement already satisfied: future in /Users/kenny/Coding/langauge_x_change/venv/lib/python3.9/site-packages (from ffmpeg-python) (0.18.3)\r\n"
     ]
    }
   ],
   "source": [
    "!pip install ffmpeg-python"
   ]
  },
  {
   "cell_type": "code",
   "execution_count": null,
   "id": "44379d6790be0538",
   "metadata": {
    "collapsed": false,
    "is_executing": true,
    "ExecuteTime": {
     "start_time": "2023-11-18T15:26:35.713501Z"
    }
   },
   "outputs": [
    {
     "name": "stderr",
     "output_type": "stream",
     "text": [
      "Special tokens have been added in the vocabulary, make sure the associated word embeddings are fine-tuned or trained.\n"
     ]
    }
   ],
   "source": [
    "import torch\n",
    "import json\n",
    "import datetime\n",
    "\n",
    "from transformers import AutoModelForSpeechSeq2Seq, AutoProcessor, pipeline\n",
    "\n",
    "# device = \"cuda:0\" if torch.cuda.is_available() else \"cpu\"\n",
    "device =\"cpu\"\n",
    "# torch_dtype = torch.float16 if torch.cuda.is_available() else torch.float32\n",
    "torch_dtype=torch.float32\n",
    "\n",
    "model_id = \"openai/whisper-large-v3\"\n",
    "\n",
    "model = AutoModelForSpeechSeq2Seq.from_pretrained(\n",
    "    model_id, torch_dtype=torch_dtype, low_cpu_mem_usage=True, use_safetensors=True\n",
    ")\n",
    "model.to(device)\n",
    "\n",
    "processor = AutoProcessor.from_pretrained(model_id)\n",
    "\n",
    "pipe = pipeline(\n",
    "    \"automatic-speech-recognition\",\n",
    "    model=model,\n",
    "    tokenizer=processor.tokenizer,\n",
    "    feature_extractor=processor.feature_extractor,\n",
    "    max_new_tokens=128,\n",
    "    chunk_length_s=30,\n",
    "    batch_size=16,\n",
    "    return_timestamps=True,\n",
    "    torch_dtype=torch_dtype,\n",
    "    device=device,\n",
    "    generate_kwargs={\"language\": \"cantonese\"}\n",
    ")\n",
    "\n",
    "\n",
    "# this is the place you modify your input - the name of the mp3 file you want to run\n",
    "result = pipe(\"sample.mp3\")\n",
    "\n",
    "# then it will write the response in a json file named as the current date time\n",
    "now = datetime.datetime.now().strftime(\"%d-%m-%Y-%H-%M-%S\")\n",
    "json_object = json.dumps(result, indent=4)\n",
    "with open(now+\".json\", \"w\") as f:\n",
    "    f.write(json_object)\n",
    "\n",
    "# also it will print out the result in the following output block\n",
    "print(result)"
   ]
  },
  {
   "cell_type": "code",
   "execution_count": null,
   "outputs": [],
   "source": [],
   "metadata": {
    "collapsed": false
   },
   "id": "b552ffe6e56cc750"
  }
 ],
 "metadata": {
  "kernelspec": {
   "display_name": "Python 3",
   "language": "python",
   "name": "python3"
  },
  "language_info": {
   "codemirror_mode": {
    "name": "ipython",
    "version": 3
   },
   "file_extension": ".py",
   "mimetype": "text/x-python",
   "name": "python",
   "nbconvert_exporter": "python",
   "pygments_lexer": "ipython3",
   "version": "3.9.2"
  }
 },
 "nbformat": 4,
 "nbformat_minor": 5
}
